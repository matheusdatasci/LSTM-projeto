{
 "cells": [
  {
   "cell_type": "raw",
   "id": "35f7fe90-29aa-4a36-ac2f-93738f5acf3b",
   "metadata": {},
   "source": [
    " Importando dependências "
   ]
  },
  {
   "cell_type": "code",
   "execution_count": null,
   "id": "1a84c326-be3b-4265-bf8d-e4498013fee7",
   "metadata": {},
   "outputs": [],
   "source": [
    "import os\n",
    "\n",
    "import pandas as pd\n",
    "from sklearn.model_selection import train_test_split\n",
    "from tensorflow.keras.models import Sequential\n",
    "from tensorflow.keras.layers import Dense, Embedding, LSTM, Dropout\n",
    "from tensorflow.keras.preprocessing.text import Tokenizer\n",
    "from tensorflow.keras.preprocessing.sequence import pad_sequences\n",
    "from tensorflow.keras.callbacks import EarlyStopping, ReduceLROnPlateau"
   ]
  },
  {
   "cell_type": "markdown",
   "id": "ad6e4f67-2dde-467a-b707-3c872ea0c4e1",
   "metadata": {},
   "source": [
    "### Pré processamento"
   ]
  },
  {
   "cell_type": "code",
   "execution_count": null,
   "id": "1a7675c7-5e22-4999-b3f2-d5e36b62f2cb",
   "metadata": {},
   "outputs": [],
   "source": [
    "dataset = pd.read_csv('../data/raw/IMDB_Dataset.csv')"
   ]
  },
  {
   "cell_type": "code",
   "execution_count": null,
   "id": "a0842095-14bf-4c9f-a91b-084940babe32",
   "metadata": {},
   "outputs": [],
   "source": [
    "dataset.shape"
   ]
  },
  {
   "cell_type": "code",
   "execution_count": null,
   "id": "13f6f40f-2894-4bfc-b9ac-5b782b0640f5",
   "metadata": {},
   "outputs": [],
   "source": [
    "dataset['sentiment'].value_counts()"
   ]
  },
  {
   "cell_type": "code",
   "execution_count": null,
   "id": "f73d91de-789c-46d2-81c2-1a09033d7bf4",
   "metadata": {},
   "outputs": [],
   "source": [
    "dataset['sentiment'] = dataset['sentiment'].map({'positive': 1, 'negative': 0})"
   ]
  },
  {
   "cell_type": "code",
   "execution_count": null,
   "id": "2ea32110-b0c8-4f6f-83b6-98e0760d40b6",
   "metadata": {},
   "outputs": [],
   "source": [
    "dataset['review'] = dataset['review'].str.lower()"
   ]
  },
  {
   "cell_type": "code",
   "execution_count": null,
   "id": "37d57488-4269-4e74-b516-2c6dc711f95b",
   "metadata": {},
   "outputs": [],
   "source": [
    "#separando conjunto de treino e de teste\n",
    "dados_treino, dados_teste = train_test_split(dataset, test_size=0.2, random_state=42)"
   ]
  },
  {
   "cell_type": "code",
   "execution_count": null,
   "id": "5de69b5b-4b57-4882-ad91-406b5f3b9424",
   "metadata": {},
   "outputs": [],
   "source": [
    "#transformando cada palavra de cada frase em números inteiros utilizando tokenizer\n",
    "tokenizer = Tokenizer(num_words=5000)\n",
    "tokenizer.fit_on_texts(dados_treino[\"review\"])\n",
    "x_treino = pad_sequences(tokenizer.texts_to_sequences(dados_treino[\"review\"]), maxlen=200)\n",
    "x_teste = pad_sequences(tokenizer.texts_to_sequences(dados_teste[\"review\"]), maxlen=200)"
   ]
  },
  {
   "cell_type": "code",
   "execution_count": null,
   "id": "c390a7eb-e640-468b-b2e3-2a5def211d04",
   "metadata": {},
   "outputs": [],
   "source": [
    "x_treino"
   ]
  },
  {
   "cell_type": "code",
   "execution_count": null,
   "id": "5d44c4c8-c008-4242-be80-8e29fce3c4f4",
   "metadata": {},
   "outputs": [],
   "source": [
    "x_teste"
   ]
  },
  {
   "cell_type": "code",
   "execution_count": null,
   "id": "df567dc2-77cb-442d-be32-0d0fbe99e761",
   "metadata": {},
   "outputs": [],
   "source": [
    "y_treino = dados_treino[\"sentiment\"]\n",
    "y_teste = dados_teste[\"sentiment\"]"
   ]
  },
  {
   "cell_type": "markdown",
   "id": "b268211e-babb-4170-b6ba-8614e9d44234",
   "metadata": {},
   "source": [
    "### Treinamento e validação"
   ]
  },
  {
   "cell_type": "code",
   "execution_count": null,
   "id": "553ba32b-0e1f-490e-8c7f-07599f4ab9ea",
   "metadata": {},
   "outputs": [],
   "source": [
    "##Arquitetura da rede neural: Camddas de dropout para evitar overfitting, Embedding para transformar palavras em\n",
    "##vetores densos e LSTM para compreender o dependências e conntexto da sequência \n",
    "modelo = Sequential()\n",
    "modelo.add(Embedding(input_dim=5000, output_dim=128))\n",
    "modelo.add(Dropout(0.2))\n",
    "modelo.add(LSTM(128, dropout=0.2, recurrent_dropout=0.1))\n",
    "modelo.add(Dense(64, activation='relu'))\n",
    "modelo.add(Dropout(0.2))\n",
    "modelo.add(Dense(64, activation='relu'))\n",
    "modelo.add(Dense(1, activation='sigmoid'))"
   ]
  },
  {
   "cell_type": "code",
   "execution_count": null,
   "id": "aa08efb0-2226-4a79-b2eb-cf11336b175e",
   "metadata": {},
   "outputs": [],
   "source": [
    "modelo.compile(optimizer=\"adam\", loss=\"binary_crossentropy\", metrics=[\"accuracy\"])"
   ]
  },
  {
   "cell_type": "code",
   "execution_count": null,
   "id": "8dc0ce5e-b3df-4b8d-ad1e-477c88576816",
   "metadata": {},
   "outputs": [],
   "source": [
    "##early stopping para parar o treino quando o modelo parar de diminuir a função de perda do conjunto de validação\n",
    "##learning rate dinâmico para ajudar na não estagnação da função de perda\n",
    "early_stop = EarlyStopping(monitor='val_loss', patience=3, restore_best_weights=True)\n",
    "reduce_lr = ReduceLROnPlateau(monitor='val_loss', factor=0.5, patience=2, min_lr=1e-6, verbose=1)"
   ]
  },
  {
   "cell_type": "code",
   "execution_count": null,
   "id": "56ecfd9b-cf0a-4e02-b5e0-6b779402d36c",
   "metadata": {},
   "outputs": [],
   "source": [
    "##treino\n",
    "modelo.fit(x_treino, y_treino, epochs=15, batch_size=64, validation_split=0.2, callbacks=[early_stop, reduce_lr])"
   ]
  },
  {
   "cell_type": "code",
   "execution_count": null,
   "id": "2c825d6a-4e27-43e3-a28d-ef68599c0fda",
   "metadata": {},
   "outputs": [],
   "source": [
    "##avaliando o modelo no conjutno de validação \n",
    "loss, accuracy = modelo.evaluate(x_teste, y_teste)\n",
    "print(f\"Loss Teste: {loss}\")\n",
    "print(f\"Accuracy Teste: {accuracy}\")"
   ]
  },
  {
   "cell_type": "markdown",
   "id": "82c6c355-dac7-49f9-b338-f4a6c9e4d4d3",
   "metadata": {},
   "source": [
    "### Usando o modelo"
   ]
  },
  {
   "cell_type": "code",
   "execution_count": null,
   "id": "01807392-a2d8-4030-a6a3-1f7ec7facefb",
   "metadata": {},
   "outputs": [],
   "source": [
    "##função para testar o modelo com suas próprias reviews ;)\n",
    "###AVISO: O modelo foi treinado com avaliações feitas em INGLÊS, portanto escreva em inglês.\n",
    "def predict_sentiment(review):\n",
    "    review = review.lower() \n",
    "    sequencia = tokenizer.texts_to_sequences([review])\n",
    "    padded_sequencia = pad_sequences(sequencia, maxlen=200)\n",
    "    predicao = modelo.predict(padded_sequencia)\n",
    "    sentiment = \"positivo\" if predicao[0][0] > 0.5 else \"negativo\"\n",
    "    return sentiment"
   ]
  },
  {
   "cell_type": "code",
   "execution_count": null,
   "id": "8cd84798-6133-42f7-bdb6-a82b926550a7",
   "metadata": {},
   "outputs": [],
   "source": [
    "minha_review = \"\"\n",
    "\n",
    "sentiment = predict_sentiment(minha_review)\n",
    "print(f'A review foi: {sentiment}')"
   ]
  }
 ],
 "metadata": {
  "kernelspec": {
   "display_name": "Python [conda env:base] *",
   "language": "python",
   "name": "conda-base-py"
  },
  "language_info": {
   "codemirror_mode": {
    "name": "ipython",
    "version": 3
   },
   "file_extension": ".py",
   "mimetype": "text/x-python",
   "name": "python",
   "nbconvert_exporter": "python",
   "pygments_lexer": "ipython3",
   "version": "3.12.7"
  }
 },
 "nbformat": 4,
 "nbformat_minor": 5
}
